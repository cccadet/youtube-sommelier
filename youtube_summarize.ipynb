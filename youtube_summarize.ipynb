{
 "cells": [
  {
   "cell_type": "code",
   "execution_count": null,
   "metadata": {},
   "outputs": [],
   "source": [
    "from dotenv import load_dotenv\n",
    "import os\n",
    "from IPython.display import display, Markdown, Latex\n",
    "from langchain_openai import ChatOpenAI\n",
    "import warnings\n",
    "from src.youtube_sommelier.tools.youtube import SumarizeVideo, SearchTranscript\n",
    "from youtube_sommelier.crew import YoutubeSommelierCrew\n",
    "\n",
    "load_dotenv()\n",
    "\n",
    "warnings.filterwarnings(\"ignore\")\n",
    "\n",
    "model_name = os.getenv(\"OPENAI_MODEL_NAME\", \"gpt-4o-mini\")\n",
    "llm = ChatOpenAI(model_name=model_name, temperature=0)"
   ]
  },
  {
   "cell_type": "code",
   "execution_count": null,
   "metadata": {},
   "outputs": [],
   "source": [
    "#input_text  = \"https://www.youtube.com/watch?v=VsZXAEFKXC4\"\n",
    "input_text = \"https://www.youtube.com/watch?v=GIXmIAbrHOc\"\n",
    "\n",
    "inputs = {\n",
    "    \"topic\": input_text\n",
    "}"
   ]
  },
  {
   "cell_type": "code",
   "execution_count": null,
   "metadata": {},
   "outputs": [],
   "source": [
    "result = YoutubeSommelierCrew().crew().kickoff(inputs=inputs)"
   ]
  },
  {
   "cell_type": "code",
   "execution_count": null,
   "metadata": {},
   "outputs": [],
   "source": [
    "Markdown(result.raw)"
   ]
  },
  {
   "cell_type": "code",
   "execution_count": null,
   "metadata": {},
   "outputs": [],
   "source": [
    "test_tool = SearchTranscript().run(\n",
    "    url_video=input_text, \n",
    "    human_input=\"Léo compartilha histórias de censura em várias cidades do Brasil.\"\n",
    ")\n",
    "\n",
    "Markdown(test_tool)"
   ]
  },
  {
   "cell_type": "code",
   "execution_count": null,
   "metadata": {},
   "outputs": [],
   "source": [
    "test_tool = SearchTranscript().run(\n",
    "    url_video=input_text, \n",
    "    human_input=\"Léo Lins anuncia o lançamento de seu livro\"\n",
    ")\n",
    "\n",
    "Markdown(test_tool)"
   ]
  }
 ],
 "metadata": {
  "kernelspec": {
   "display_name": "crewai",
   "language": "python",
   "name": "python3"
  },
  "language_info": {
   "codemirror_mode": {
    "name": "ipython",
    "version": 3
   },
   "file_extension": ".py",
   "mimetype": "text/x-python",
   "name": "python",
   "nbconvert_exporter": "python",
   "pygments_lexer": "ipython3",
   "version": "3.12.4"
  }
 },
 "nbformat": 4,
 "nbformat_minor": 2
}
